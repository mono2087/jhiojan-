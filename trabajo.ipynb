{
  "nbformat": 4,
  "nbformat_minor": 0,
  "metadata": {
    "colab": {
      "provenance": [],
      "collapsed_sections": [],
      "include_colab_link": true
    },
    "kernelspec": {
      "name": "python3",
      "display_name": "Python 3"
    },
    "language_info": {
      "name": "python"
    }
  },
  "cells": [
    {
      "cell_type": "markdown",
      "metadata": {
        "id": "view-in-github",
        "colab_type": "text"
      },
      "source": [
        "<a href=\"https://colab.research.google.com/github/mono2087/jhiojan-/blob/main/trabajo.ipynb\" target=\"_parent\"><img src=\"https://colab.research.google.com/assets/colab-badge.svg\" alt=\"Open In Colab\"/></a>"
      ]
    },
    {
      "cell_type": "code",
      "source": [
        "saldo = int(input('Ingresar monto a pagar: '))\n",
        "tipos = (\n",
        "    (100000,\"billete\"),\n",
        "    (50000,\"billete\"),\n",
        "    (20000,\"billete\"),\n",
        "    (10000,\"billete\"),\n",
        "    (5000,\"billete\"),\n",
        "    (2000,\"billete\"),\n",
        "    (1000,\"billete\"),\n",
        "    (500,\"moneda\"),\n",
        "    (200,\"moneda\")\n",
        "    #(100,\"moneda\")\n",
        "    #(50,\"moneda\")\n",
        "        )\n",
        " \n",
        "for tipo in tipos:\n",
        "    valor=tipo[0]\n",
        "    descripcion=tipo[1]\n",
        "    s=lambda valor,text: valor > 1 and text+\"s\" or text\n",
        "    \n",
        "    if saldo/valor>0:\n",
        "        print(\"%d %s de %d\" % ((saldo / valor), s((saldo / valor),descripcion), valor))\n",
        "        # cogemos el resto de la division\n",
        "        saldo = saldo % valor\n"
      ],
      "metadata": {
        "id": "r8SEblrQh3tg",
        "outputId": "859361f2-c461-4587-c4d1-fc321b66dd83",
        "colab": {
          "base_uri": "https://localhost:8080/"
        }
      },
      "execution_count": null,
      "outputs": [
        {
          "output_type": "stream",
          "name": "stdout",
          "text": [
            "Ingresar monto a pagar: 178600\n",
            "1 billetes de 100000\n",
            "1 billetes de 50000\n",
            "1 billetes de 20000\n",
            "0 billete de 10000\n",
            "1 billetes de 5000\n",
            "1 billetes de 2000\n",
            "1 billetes de 1000\n",
            "1 monedas de 500\n",
            "0 moneda de 200\n"
          ]
        }
      ]
    },
    {
      "cell_type": "code",
      "execution_count": null,
      "metadata": {
        "colab": {
          "base_uri": "https://localhost:8080/"
        },
        "id": "I4grjmhXaqJL",
        "outputId": "7b30960b-206e-4b98-e90e-693d32d81523"
      },
      "outputs": [
        {
          "output_type": "stream",
          "name": "stdout",
          "text": [
            "ingrese la cantidad de materias: 4\n",
            "ingrese el nombre de la materia 1: fisica\n",
            "ingrese el nombre de la materia 2: calculo\n",
            "ingrese el nombre de la materia 3: prog aplicada\n",
            "ingrese el nombre de la materia 4: etica\n",
            "['fisica', 'calculo', 'prog aplicada', 'etica']\n",
            "ingrese la nota que espera de fisica: 5\n",
            "ingrese la nota que espera de calculo: 4.2\n",
            "ingrese la nota que espera de prog aplicada: 5\n",
            "ingrese la nota que espera de etica: 2.3\n",
            "[5.0, 4.2, 5.0, 2.3]\n",
            "Materias aprobadas:  ['fisica', 'calculo', 'prog aplicada']\n",
            "Materias reprobadas:  ['etica']\n"
          ]
        }
      ],
      "source": [
        "#lista de materias\n",
        "\n",
        "listamaterias=[]\n",
        "num_materias=int(input('ingrese la cantidad de materias: '))\n",
        "for i in range(num_materias):\n",
        "  materia=input('ingrese el nombre de la materia '+ str(i+1) + \": \")\n",
        "  listamaterias.append(materia)\n",
        "print(listamaterias)\n",
        "\n",
        "#notas esperadas para las materias\n",
        "\n",
        "Notas= []\n",
        "for i in range(len(listamaterias)):\n",
        "  while True:\n",
        "    nota=float(input(\"ingrese la nota que espera de \" + listamaterias[i]+ \": \"))\n",
        "    if nota>5 or nota<0:\n",
        "      print(\"No es una nota valida\")\n",
        "    else:\n",
        "      Notas.append(nota)\n",
        "      break\n",
        "print(Notas)\n",
        "\n",
        "#materias aprobadas o reprobadas\n",
        "\n",
        "aprobadas= []\n",
        "reprobadas= []\n",
        "\n",
        "for i in range(len(listamaterias)):\n",
        "  if Notas[i]<3:\n",
        "    reprobadas.append(listamaterias[i])\n",
        "  else:\n",
        "    aprobadas.append(listamaterias[i])\n",
        "   \n",
        "print(\"Materias aprobadas: \", aprobadas)\n",
        "print(\"Materias reprobadas: \", reprobadas)\n"
      ]
    },
    {
      "cell_type": "code",
      "source": [
        "#https://misfragmentosdecodigo.eu/palindromos-con-python/\n",
        "\n",
        "igual, aux = 0, 0\n",
        "texto = input(\"Ingrese la palabra que desea evaluar: \")\n",
        "for i in reversed(range(0, len(texto))):\n",
        "\n",
        "  if len(texto) == igual:\n",
        "     print(\"El texto es palindromo!\")\n",
        "  else:\n",
        "    print(\"El texto no es palindromo!\")"
      ],
      "metadata": {
        "colab": {
          "base_uri": "https://localhost:8080/"
        },
        "id": "YylosH3EqCFv",
        "outputId": "b043eaec-64b5-44ba-fa02-73b051c1bbac"
      },
      "execution_count": null,
      "outputs": [
        {
          "output_type": "stream",
          "name": "stdout",
          "text": [
            "Ingrese la palabra que desea evaluar: anita lava la tina\n",
            "El texto no es palindromo!\n",
            "El texto no es palindromo!\n",
            "El texto no es palindromo!\n",
            "El texto no es palindromo!\n",
            "El texto no es palindromo!\n",
            "El texto no es palindromo!\n",
            "El texto no es palindromo!\n",
            "El texto no es palindromo!\n",
            "El texto no es palindromo!\n",
            "El texto no es palindromo!\n",
            "El texto no es palindromo!\n",
            "El texto no es palindromo!\n",
            "El texto no es palindromo!\n",
            "El texto no es palindromo!\n",
            "El texto no es palindromo!\n",
            "El texto no es palindromo!\n",
            "El texto no es palindromo!\n",
            "El texto no es palindromo!\n"
          ]
        }
      ]
    }
  ]
}